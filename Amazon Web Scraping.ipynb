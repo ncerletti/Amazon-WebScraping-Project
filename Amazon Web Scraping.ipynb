{
 "cells": [
  {
   "cell_type": "code",
   "execution_count": 1,
   "id": "79de3eb5-782d-43ba-826e-3dae8ced6166",
   "metadata": {},
   "outputs": [],
   "source": [
    "# import libraries \n",
    "\n",
    "from bs4 import BeautifulSoup\n",
    "import requests\n",
    "import time\n",
    "import datetime\n",
    "import smtplib\n",
    "import csv\n",
    "import re\n",
    "import pandas as pd"
   ]
  },
  {
   "cell_type": "code",
   "execution_count": 3,
   "id": "46a93a30-8bf1-4ac4-a676-fb1f3ae7c10a",
   "metadata": {},
   "outputs": [
    {
     "name": "stdout",
     "output_type": "stream",
     "text": [
      "Pampling Camiseta de Manga Corta, 100% Algodón, Ropa Unisex para Hombres y Mujeres en 5 Tallas, Camiseta Negra, Modelo Cat Starry Night\n",
      "16,90€\n"
     ]
    }
   ],
   "source": [
    "#Connect to Website\n",
    "\n",
    "#We need: the url and headers - headers is info about your own computer / device\n",
    "\n",
    "#To get that info we are using this page: https://httpbin.org/get\n",
    "\n",
    "url = 'https://www.amazon.es/Pampling-Camiseta-Algod%C3%B3n-Hombres-Mujeres/dp/B0BY2FWKWF/ref=sr_1_10?__mk_es_ES=%C3%85M%C3%85%C5%BD%C3%95%C3%91&crid=3JIMPOTI3ATN&dib=eyJ2IjoiMSJ9.pg5U7x2dd54VZbvL-QyA-PWGn9QF-SUSZc2oIc7jQOLr0VO-UwqeqtWRpbuRtn86f2vD98qILi4cjoaB33QTBtS-chdTiQgKE3-_lqckF8I3rfK14ZTXgoFktPC8Bk6vqhno0k4xtJYVQwZl2r08cE6Z2e-5rwXZTxZUw_fcPgl9vuFbwuSmR1AXzfpWtJ79tkqEEptHX7EaHIBOtXV9gpk6sOxGd4izcCAn5aaEK5l6gUDbLeWkUSccoG8K3XHnGpIYleEOhmSe6UFgE6ALk7NCFHmDNoRkWar7XRDnIx8.ZJIOkW4s1jlPj2gttSDC9CAj12ejDK0U5wEKYnBBGgg&dib_tag=se&keywords=camiseta+gatos&qid=1719141979&sprefix=camiseta+gatos%2Caps%2C170&sr=8-10'\n",
    "\n",
    "headers = {\"User-Agent\" : \"Mozilla/5.0 (Windows NT 10.0; Win64; x64) AppleWebKit/537.36 (KHTML, like Gecko) Chrome/126.0.0.0 Safari/537.36\", \"Accept-Encoding\": \"gzip, deflate, br, zstd\", \"Accept\": \"text/html,application/xhtml+xml,application/xml;q=0.9,image/avif,image/webp,image/apng,*/*;q=0.8,application/signed-exchange;v=b3;q=0.7\",\"DNT\":\"1\",\"Connection\":\"close\", \"Upgrade-Insecure-Requests\":\"1\"}\n",
    "\n",
    "page = requests.get(url, headers = headers)\n",
    "\n",
    "soup1 = BeautifulSoup(page.content, 'html.parser')\n",
    "\n",
    "soup2 = BeautifulSoup(soup1.prettify(), \"html.parser\")\n",
    "\n",
    "title = (soup2.find(id= 'productTitle').get_text()).strip()\n",
    "\n",
    "price = (soup2.find('span', {'class': 'a-offscreen'}).get_text()).strip()\n",
    "\n",
    "print(title)\n",
    "print(price)\n",
    "\n"
   ]
  },
  {
   "cell_type": "code",
   "execution_count": 5,
   "id": "aa622fb0-14e5-42fb-8b6e-c3652f06473c",
   "metadata": {},
   "outputs": [
    {
     "name": "stdout",
     "output_type": "stream",
     "text": [
      "Camiseta Negra, Modelo Cat Starry Night\n",
      "16,90\n"
     ]
    }
   ],
   "source": [
    "#Cleaning the data a bit\n",
    "\n",
    "clean_title = (re.search('Camiseta Negra([\\s\\S]*)$', title)).group()\n",
    "\n",
    "#clean_title = clean_title.group()\n",
    "\n",
    "print(clean_title)\n",
    "\n",
    "clean_price = price[0:5]\n",
    "\n",
    "print(clean_price)"
   ]
  },
  {
   "cell_type": "code",
   "execution_count": 7,
   "id": "233506ff-75a1-4197-88f2-42f549a7a5b0",
   "metadata": {},
   "outputs": [
    {
     "name": "stdout",
     "output_type": "stream",
     "text": [
      "2024-06-27\n"
     ]
    }
   ],
   "source": [
    "#Adding a timestamp to know when you collected the data is useful\n",
    "\n",
    "datetime.date.today()\n",
    "today = datetime.date.today()\n",
    "\n",
    "print(today)\n"
   ]
  },
  {
   "cell_type": "code",
   "execution_count": null,
   "id": "31678051-6da7-4cbc-a6ea-088c61adbdfb",
   "metadata": {},
   "outputs": [],
   "source": [
    "#Creating a csv file to put the data in\n",
    "\n",
    "header = ['Product', 'Price', 'Date']\n",
    "data = [clean_title, clean_price, today]\n",
    "\n",
    "with open('Amazon Product Prices.csv', 'w', newline = '', encoding = 'UTF8') as f:\n",
    "    writer = csv.writer(f)\n",
    "    writer.writerow(header)\n",
    "    writer.writerow(data)"
   ]
  },
  {
   "cell_type": "code",
   "execution_count": null,
   "id": "f24235d1-f562-41ac-af2e-ce22e982a108",
   "metadata": {},
   "outputs": [],
   "source": [
    "#Checking the file is in order\n",
    "\n",
    "df = pd.read_csv(r\"C:\\Users\\Herenya\\Amazon Product Prices.csv\")\n",
    "\n",
    "print(df)"
   ]
  },
  {
   "cell_type": "code",
   "execution_count": null,
   "id": "d30ebcad-a6e7-4367-b3b5-a48cd43f334e",
   "metadata": {},
   "outputs": [],
   "source": [
    "#Appending new data to our file\n",
    "#The script is similar to the one that creates the file - important changing the w-write to a+ -apppend-\n",
    "\n",
    "with open('AmazonWebScraperDataset.csv', 'a+', newline='', encoding='UTF8') as f:\n",
    "    writer = csv.writer(f)\n",
    "    writer.writerow(data)\n"
   ]
  },
  {
   "cell_type": "code",
   "execution_count": 9,
   "id": "f68cc74f-d636-4156-a11d-34864207c4c2",
   "metadata": {},
   "outputs": [],
   "source": [
    "#Now we want to automate all of this code so that the program checks the price of the same product daily and we don't have to run the code manually\n",
    "#To this end we will create a function that does this and call this function daily\n",
    "#First let's create the function:\n",
    "\n",
    "def check_price():\n",
    "    \n",
    "    url = 'https://www.amazon.es/Pampling-Camiseta-Algod%C3%B3n-Hombres-Mujeres/dp/B0BY2FWKWF/ref=sr_1_10?__mk_es_ES=%C3%85M%C3%85%C5%BD%C3%95%C3%91&crid=3JIMPOTI3ATN&dib=eyJ2IjoiMSJ9.pg5U7x2dd54VZbvL-QyA-PWGn9QF-SUSZc2oIc7jQOLr0VO-UwqeqtWRpbuRtn86f2vD98qILi4cjoaB33QTBtS-chdTiQgKE3-_lqckF8I3rfK14ZTXgoFktPC8Bk6vqhno0k4xtJYVQwZl2r08cE6Z2e-5rwXZTxZUw_fcPgl9vuFbwuSmR1AXzfpWtJ79tkqEEptHX7EaHIBOtXV9gpk6sOxGd4izcCAn5aaEK5l6gUDbLeWkUSccoG8K3XHnGpIYleEOhmSe6UFgE6ALk7NCFHmDNoRkWar7XRDnIx8.ZJIOkW4s1jlPj2gttSDC9CAj12ejDK0U5wEKYnBBGgg&dib_tag=se&keywords=camiseta+gatos&qid=1719141979&sprefix=camiseta+gatos%2Caps%2C170&sr=8-10'\n",
    "\n",
    "    headers = {\"User-Agent\" : \"Mozilla/5.0 (Windows NT 10.0; Win64; x64) AppleWebKit/537.36 (KHTML, like Gecko) Chrome/126.0.0.0 Safari/537.36\", \"Accept-Encoding\": \"gzip, deflate, br, zstd\", \"Accept\": \"text/html,application/xhtml+xml,application/xml;q=0.9,image/avif,image/webp,image/apng,*/*;q=0.8,application/signed-exchange;v=b3;q=0.7\",\"DNT\":\"1\",\"Connection\":\"close\", \"Upgrade-Insecure-Requests\":\"1\"}\n",
    "\n",
    "    page = requests.get(url, headers = headers)\n",
    "\n",
    "    soup1 = BeautifulSoup(page.content, 'html.parser')\n",
    "\n",
    "    soup2 = BeautifulSoup(soup1.prettify(), \"html.parser\")\n",
    "\n",
    "    title = (soup2.find(id= 'productTitle').get_text()).strip()\n",
    "\n",
    "    price = (soup2.find('span', {'class': 'a-offscreen'}).get_text()).strip()\n",
    "\n",
    "    clean_title = (re.search('Camiseta Negra([\\s\\S]*)$', title)).group()\n",
    "    \n",
    "    clean_price = price[0:5]\n",
    "\n",
    "    import datetime\n",
    "\n",
    "    today = datetime.date.today()\n",
    "    \n",
    "    import csv \n",
    "\n",
    "    header = ['Product', 'Price', 'Date']\n",
    "    data = [clean_title, clean_price, today]\n",
    "\n",
    "    with open('Amazon Product Prices.csv', 'a+', newline='', encoding='UTF8') as f:\n",
    "        writer = csv.writer(f)\n",
    "        writer.writerow(data)\n"
   ]
  },
  {
   "cell_type": "code",
   "execution_count": 13,
   "id": "ebcfb2b8-b7b1-4e6b-9c67-09f026f31e86",
   "metadata": {},
   "outputs": [
    {
     "name": "stdout",
     "output_type": "stream",
     "text": [
      "price checked\n",
      "price checked\n",
      "price checked\n",
      "price checked\n"
     ]
    },
    {
     "ename": "KeyboardInterrupt",
     "evalue": "",
     "output_type": "error",
     "traceback": [
      "\u001b[1;31m---------------------------------------------------------------------------\u001b[0m",
      "\u001b[1;31mKeyboardInterrupt\u001b[0m                         Traceback (most recent call last)",
      "Cell \u001b[1;32mIn[13], line 6\u001b[0m\n\u001b[0;32m      4\u001b[0m     check_price()\n\u001b[0;32m      5\u001b[0m     \u001b[38;5;28mprint\u001b[39m(\u001b[38;5;124m'\u001b[39m\u001b[38;5;124mprice checked\u001b[39m\u001b[38;5;124m'\u001b[39m)\n\u001b[1;32m----> 6\u001b[0m     \u001b[43mtime\u001b[49m\u001b[38;5;241;43m.\u001b[39;49m\u001b[43msleep\u001b[49m\u001b[43m(\u001b[49m\u001b[38;5;241;43m60\u001b[39;49m\u001b[43m)\u001b[49m\n\u001b[0;32m      8\u001b[0m \u001b[38;5;66;03m#now it is set to check the price every 3 days -time is specified in seconds- \u001b[39;00m\n",
      "\u001b[1;31mKeyboardInterrupt\u001b[0m: "
     ]
    }
   ],
   "source": [
    "#Now we build a timer so that the code runs every x time (it will call the function we just created periodically)\n",
    "\n",
    "while(True):\n",
    "    check_price()\n",
    "    print('price checked')\n",
    "    time.sleep(60)\n",
    "\n",
    "#now it is set to check the price every minute -time is specified in seconds- "
   ]
  },
  {
   "cell_type": "code",
   "execution_count": null,
   "id": "fda73e2d-dc90-4c07-9cb9-1702e8235f9e",
   "metadata": {},
   "outputs": [],
   "source": []
  },
  {
   "cell_type": "code",
   "execution_count": null,
   "id": "a92ad236-f5d2-423a-96cb-89df8cb6f58c",
   "metadata": {},
   "outputs": [],
   "source": []
  }
 ],
 "metadata": {
  "kernelspec": {
   "display_name": "Python 3 (ipykernel)",
   "language": "python",
   "name": "python3"
  },
  "language_info": {
   "codemirror_mode": {
    "name": "ipython",
    "version": 3
   },
   "file_extension": ".py",
   "mimetype": "text/x-python",
   "name": "python",
   "nbconvert_exporter": "python",
   "pygments_lexer": "ipython3",
   "version": "3.11.7"
  }
 },
 "nbformat": 4,
 "nbformat_minor": 5
}
